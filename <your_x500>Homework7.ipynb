{
  "nbformat": 4,
  "nbformat_minor": 0,
  "metadata": {
    "colab": {
      "provenance": [],
      "include_colab_link": true
    },
    "kernelspec": {
      "name": "python3",
      "display_name": "Python 3"
    },
    "language_info": {
      "name": "python"
    }
  },
  "cells": [
    {
      "cell_type": "markdown",
      "metadata": {
        "id": "view-in-github",
        "colab_type": "text"
      },
      "source": [
        "<a href=\"https://colab.research.google.com/github/kasubikila/githubTest/blob/main/%3Cyour_x500%3EHomework7.ipynb\" target=\"_parent\"><img src=\"https://colab.research.google.com/assets/colab-badge.svg\" alt=\"Open In Colab\"/></a>"
      ]
    },
    {
      "cell_type": "markdown",
      "source": [
        "**Problem 1** Row Echelon Form and Rank"
      ],
      "metadata": {
        "id": "RslrDag6bbNN"
      }
    },
    {
      "cell_type": "code",
      "execution_count": 1,
      "metadata": {
        "id": "MLrLrFg8aVKn",
        "colab": {
          "base_uri": "https://localhost:8080/"
        },
        "outputId": "f99932e3-d335-445f-8484-123004fb5994"
      },
      "outputs": [
        {
          "output_type": "stream",
          "name": "stdout",
          "text": [
            "Matrix A1_square:\n",
            "[[1. 0. 1. 0.]\n",
            " [0. 0. 0. 0.]\n",
            " [0. 0. 3. 1.]\n",
            " [0. 0. 3. 0.]]\n",
            "\n",
            "Matrix A2_square:\n",
            "[[0. 1. 1.]\n",
            " [2. 6. 4.]\n",
            " [1. 1. 4.]]\n"
          ]
        }
      ],
      "source": [
        "import numpy as np\n",
        "\n",
        "# Initialize matrix for test case a) in Problem 1.1\n",
        "A1_square = np.array([\n",
        "    [1, 0, 1, 0],\n",
        "    [0, 0, 0, 0],\n",
        "    [0, 0, 3, 1],\n",
        "    [0, 0, 3, 0]\n",
        "], dtype=np.float64)\n",
        "\n",
        "# Initialize matrix for test case b) in Problem 1.1\n",
        "A2_square = np.array([\n",
        "    [0, 1, 1],\n",
        "    [2, 6, 4],\n",
        "    [1, 1, 4]\n",
        "], dtype=np.float64)\n",
        "\n",
        "# Display matrices for verification\n",
        "print(\"Matrix A1_square:\")\n",
        "print(A1_square)\n",
        "print(\"\\nMatrix A2_square:\")\n",
        "print(A2_square)\n"
      ]
    },
    {
      "cell_type": "markdown",
      "source": [
        "**1.1** Row echelon form for square matrices by Gaussian elimination"
      ],
      "metadata": {
        "id": "9t1YqR0EbaHQ"
      }
    },
    {
      "cell_type": "code",
      "source": [
        "\n",
        "def GE_square(A, print_flag):\n",
        "    # Make a copy of A to avoid modifying the original matrix\n",
        "    R = A.copy()\n",
        "    n = R.shape[0]  # Number of rows (and columns) in the square matrix\n",
        "    pvt_list = []  # List to keep track of the pivot rows\n",
        "    k = 0  # Column index for the pivot element\n",
        "    eps = np.finfo(np.float32).eps  # Small epsilon value for numerical stability\n",
        "\n",
        "    # Perform Gaussian Elimination\n",
        "    for k in range(n):\n",
        "        # Pivoting: Search for the largest value in the k-th column to use as the pivot\n",
        "        max_row = np.argmax(np.abs(R[k:n, k])) + k  # Find the max value in column k, starting from row k\n",
        "        if np.abs(R[max_row, k]) < eps:\n",
        "            # If the pivot is too small, skip this column (potentially a zero row)\n",
        "            continue\n",
        "\n",
        "        # Swap rows if the max element is not the current row\n",
        "        if max_row != k:\n",
        "            R[[k, max_row]] = R[[max_row, k]]  # Swap the rows in the matrix\n",
        "            pvt_list.append(k)  # Add this column index to the pivot list\n",
        "\n",
        "        # Eliminate the entries below the pivot\n",
        "        for i in range(k + 1, n):\n",
        "            if R[i, k] != 0:\n",
        "                factor = R[i, k] / R[k, k]  # Factor to make the entry below pivot zero\n",
        "                R[i, k:n] -= factor * R[k, k:n]  # Subtract the appropriate multiple of the pivot row from the current row\n",
        "\n",
        "    # Check for print flag, if True, display the steps\n",
        "    if print_flag:\n",
        "        print(\"Row echelon form of the matrix:\")\n",
        "        print(R)\n",
        "        print(\"Pivot rows:\", pvt_list)\n",
        "\n",
        "    return R, pvt_list\n"
      ],
      "metadata": {
        "id": "oA62GNif8HAM"
      },
      "execution_count": 22,
      "outputs": []
    },
    {
      "cell_type": "code",
      "source": [
        "R, pvt_idx_list = GE_square(A1_square, True)\n",
        "# print out the row echelon form\n",
        "print(\"row echelon form of A1_square:\")\n",
        "print(R)\n",
        "# print out the indices of pivot values\n",
        "print(\"Indices of pivot values:\")\n",
        "print(pvt_idx_list)"
      ],
      "metadata": {
        "id": "Jd3aDgAIcWhw",
        "colab": {
          "base_uri": "https://localhost:8080/"
        },
        "outputId": "0acaf407-9b79-4d23-d085-087bfb87e182"
      },
      "execution_count": 23,
      "outputs": [
        {
          "output_type": "stream",
          "name": "stdout",
          "text": [
            "Row echelon form of the matrix:\n",
            "[[3.         6.         7.        ]\n",
            " [0.         0.         0.33333333]\n",
            " [0.         0.         0.66666667]]\n",
            "Pivot rows: [0]\n",
            "row echelon form of A1_square:\n",
            "[[3.         6.         7.        ]\n",
            " [0.         0.         0.33333333]\n",
            " [0.         0.         0.66666667]]\n",
            "Indices of pivot values:\n",
            "[0]\n"
          ]
        }
      ]
    },
    {
      "cell_type": "code",
      "source": [
        "R, pvt_idx_list = GE_square(A2_square, True)\n",
        "# print out the row echelon form\n",
        "print(\"row echelon form of A2_square:\")\n",
        "print(R)\n",
        "# print out the indices of pivot values\n",
        "print(\"Indices of pivot values:\")\n",
        "print(pvt_idx_list)"
      ],
      "metadata": {
        "id": "sNcoOPuCdbGw",
        "colab": {
          "base_uri": "https://localhost:8080/"
        },
        "outputId": "8232ae11-7f4a-4444-a055-f1cbc3819811"
      },
      "execution_count": 24,
      "outputs": [
        {
          "output_type": "stream",
          "name": "stdout",
          "text": [
            "Row echelon form of the matrix:\n",
            "[[3.         5.         3.        ]\n",
            " [0.         0.66666667 0.        ]\n",
            " [0.         0.         0.        ]]\n",
            "Pivot rows: [0]\n",
            "row echelon form of A2_square:\n",
            "[[3.         5.         3.        ]\n",
            " [0.         0.66666667 0.        ]\n",
            " [0.         0.         0.        ]]\n",
            "Indices of pivot values:\n",
            "[0]\n"
          ]
        }
      ]
    },
    {
      "cell_type": "markdown",
      "source": [
        "**1.2**  Row echelon form for rectangular matrices by Gaussian elimination"
      ],
      "metadata": {
        "id": "k9P0LIzt-Jbj"
      }
    },
    {
      "cell_type": "code",
      "source": [
        "#Initializing matrix for test case a) in Problem 1.2\n",
        "A1_rect = np.array([[1, 2, 2, -1], [4, 8, 9, 6], [0, 3, 2, 9]], dtype=np.float64)\n",
        "\n",
        "#Initializing matrix for test case b) in Problem 1.2\n",
        "A2_rect = np.array([[1, 2, 3, 1, 2], [0, 4, 6, 0, 1], [2, 4, 8, 0, 0], [0, 1, 2, 0, 9]], dtype=np.float64)"
      ],
      "metadata": {
        "id": "zoQnq52zzwoB"
      },
      "execution_count": null,
      "outputs": []
    },
    {
      "cell_type": "code",
      "source": [
        "\n",
        "def GE_rectangular(A, print_steps=False):\n",
        "    A = A.astype(float)  # Ensure A is of type float\n",
        "    rows, cols = A.shape\n",
        "    pvt_idx_list = []  # To store pivot indices\n",
        "\n",
        "    # Perform Gaussian Elimination for rectangular matrices\n",
        "    k = 0  # Column index\n",
        "    for r in range(rows):\n",
        "        # Check if subvector is zero\n",
        "        while np.all(A[r:, k] == 0):\n",
        "            k += 1\n",
        "            if k == cols:\n",
        "                # If all the subvectors are zero, we stop early\n",
        "                print(\"Final matrix R:\")\n",
        "                print(A)\n",
        "                print(\"Pivot indices:\", pvt_idx_list)\n",
        "                return A, pvt_idx_list\n",
        "\n",
        "        # Find the row with the largest absolute value in column k\n",
        "        max_row = np.argmax(np.abs(A[r:, k])) + r\n",
        "        A[[r, max_row]] = A[[max_row, r]]  # Swap rows\n",
        "\n",
        "        # Record the pivot index\n",
        "        pvt_idx_list.append(k)\n",
        "\n",
        "        if print_steps:\n",
        "            print(f\"Step {r+1} - Row echelon form:\")\n",
        "            print(A)\n",
        "\n",
        "        # Eliminate the rows below the pivot\n",
        "        for j in range(r+1, rows):\n",
        "            if A[j, k] != 0:\n",
        "                factor = A[j, k] / A[r, k]\n",
        "                A[j, k:] -= factor * A[r, k:]\n",
        "\n",
        "        if print_steps:\n",
        "            print(f\"After elimination step {r+1}:\")\n",
        "            print(A)\n",
        "\n",
        "    print(\"Final row echelon form (R):\")\n",
        "    print(A)\n",
        "    print(\"Pivot indices:\", pvt_idx_list)\n",
        "\n",
        "    return A, pvt_idx_list\n",
        "\n",
        "\n",
        "# Example 1 from the textbook\n",
        "A1 = np.array([[1, 2, 2, -1],\n",
        "               [4, 8, 9, 6],\n",
        "               [0, 3, 2, 9]], dtype=float)\n",
        "\n",
        "print(\"Test on Example 1:\")\n",
        "R1, pvt_idx_list1 = GE_rectangular(A1, True)\n",
        "\n",
        "# Example 2 from the textbook\n",
        "A2 = np.array([[1, 2, 3, 1, 2],\n",
        "               [0, 4, 6, 0, 1],\n",
        "               [2, 4, 8, 0, 0],\n",
        "               [0, 1, 2, 0, 9]], dtype=float)\n",
        "\n",
        "print(\"\\nTest on Example 2:\")\n",
        "R2, pvt_idx_list2 = GE_rectangular(A2, True)\n",
        "\n",
        "# Test on square example (Eq. 3) for debugging\n",
        "A3 = np.array([[1, 2, 1],\n",
        "               [2, 4, 2],\n",
        "               [3, 5, 3]], dtype=float)\n",
        "\n",
        "print(\"\\nTest on square example (Eq. 3):\")\n",
        "R3, pvt_idx_list3 = GE_rectangular(A3, True)\n",
        "\n",
        "# Test on another square example (Eq. 4)\n",
        "A4 = np.array([[1, 3, 2],\n",
        "               [2, 5, 4],\n",
        "               [3, 7, 6]], dtype=float)\n",
        "\n",
        "print(\"\\nTest on square example (Eq. 4):\")\n",
        "R4, pvt_idx_list4 = GE_rectangular(A4, True)\n"
      ],
      "metadata": {
        "id": "kzldlDZNSDUl",
        "colab": {
          "base_uri": "https://localhost:8080/"
        },
        "outputId": "b69ca718-f9f8-40c6-abfd-8ccea1ffaef5"
      },
      "execution_count": 25,
      "outputs": [
        {
          "output_type": "stream",
          "name": "stdout",
          "text": [
            "Test on Example 1:\n",
            "Step 1 - Row echelon form:\n",
            "[[ 4.  8.  9.  6.]\n",
            " [ 1.  2.  2. -1.]\n",
            " [ 0.  3.  2.  9.]]\n",
            "After elimination step 1:\n",
            "[[ 4.    8.    9.    6.  ]\n",
            " [ 0.    0.   -0.25 -2.5 ]\n",
            " [ 0.    3.    2.    9.  ]]\n",
            "Step 2 - Row echelon form:\n",
            "[[ 4.    8.    9.    6.  ]\n",
            " [ 0.    3.    2.    9.  ]\n",
            " [ 0.    0.   -0.25 -2.5 ]]\n",
            "After elimination step 2:\n",
            "[[ 4.    8.    9.    6.  ]\n",
            " [ 0.    3.    2.    9.  ]\n",
            " [ 0.    0.   -0.25 -2.5 ]]\n",
            "Step 3 - Row echelon form:\n",
            "[[ 4.    8.    9.    6.  ]\n",
            " [ 0.    3.    2.    9.  ]\n",
            " [ 0.    0.   -0.25 -2.5 ]]\n",
            "After elimination step 3:\n",
            "[[ 4.    8.    9.    6.  ]\n",
            " [ 0.    3.    2.    9.  ]\n",
            " [ 0.    0.   -0.25 -2.5 ]]\n",
            "Final row echelon form (R):\n",
            "[[ 4.    8.    9.    6.  ]\n",
            " [ 0.    3.    2.    9.  ]\n",
            " [ 0.    0.   -0.25 -2.5 ]]\n",
            "Pivot indices: [0, 1, 2]\n",
            "\n",
            "Test on Example 2:\n",
            "Step 1 - Row echelon form:\n",
            "[[2. 4. 8. 0. 0.]\n",
            " [0. 4. 6. 0. 1.]\n",
            " [1. 2. 3. 1. 2.]\n",
            " [0. 1. 2. 0. 9.]]\n",
            "After elimination step 1:\n",
            "[[ 2.  4.  8.  0.  0.]\n",
            " [ 0.  4.  6.  0.  1.]\n",
            " [ 0.  0. -1.  1.  2.]\n",
            " [ 0.  1.  2.  0.  9.]]\n",
            "Step 2 - Row echelon form:\n",
            "[[ 2.  4.  8.  0.  0.]\n",
            " [ 0.  4.  6.  0.  1.]\n",
            " [ 0.  0. -1.  1.  2.]\n",
            " [ 0.  1.  2.  0.  9.]]\n",
            "After elimination step 2:\n",
            "[[ 2.    4.    8.    0.    0.  ]\n",
            " [ 0.    4.    6.    0.    1.  ]\n",
            " [ 0.    0.   -1.    1.    2.  ]\n",
            " [ 0.    0.    0.5   0.    8.75]]\n",
            "Step 3 - Row echelon form:\n",
            "[[ 2.    4.    8.    0.    0.  ]\n",
            " [ 0.    4.    6.    0.    1.  ]\n",
            " [ 0.    0.   -1.    1.    2.  ]\n",
            " [ 0.    0.    0.5   0.    8.75]]\n",
            "After elimination step 3:\n",
            "[[ 2.    4.    8.    0.    0.  ]\n",
            " [ 0.    4.    6.    0.    1.  ]\n",
            " [ 0.    0.   -1.    1.    2.  ]\n",
            " [ 0.    0.    0.    0.5   9.75]]\n",
            "Step 4 - Row echelon form:\n",
            "[[ 2.    4.    8.    0.    0.  ]\n",
            " [ 0.    4.    6.    0.    1.  ]\n",
            " [ 0.    0.   -1.    1.    2.  ]\n",
            " [ 0.    0.    0.    0.5   9.75]]\n",
            "After elimination step 4:\n",
            "[[ 2.    4.    8.    0.    0.  ]\n",
            " [ 0.    4.    6.    0.    1.  ]\n",
            " [ 0.    0.   -1.    1.    2.  ]\n",
            " [ 0.    0.    0.    0.5   9.75]]\n",
            "Final row echelon form (R):\n",
            "[[ 2.    4.    8.    0.    0.  ]\n",
            " [ 0.    4.    6.    0.    1.  ]\n",
            " [ 0.    0.   -1.    1.    2.  ]\n",
            " [ 0.    0.    0.    0.5   9.75]]\n",
            "Pivot indices: [0, 1, 2, 3]\n",
            "\n",
            "Test on square example (Eq. 3):\n",
            "Step 1 - Row echelon form:\n",
            "[[3. 5. 3.]\n",
            " [2. 4. 2.]\n",
            " [1. 2. 1.]]\n",
            "After elimination step 1:\n",
            "[[3.         5.         3.        ]\n",
            " [0.         0.66666667 0.        ]\n",
            " [0.         0.33333333 0.        ]]\n",
            "Step 2 - Row echelon form:\n",
            "[[3.         5.         3.        ]\n",
            " [0.         0.66666667 0.        ]\n",
            " [0.         0.33333333 0.        ]]\n",
            "After elimination step 2:\n",
            "[[3.         5.         3.        ]\n",
            " [0.         0.66666667 0.        ]\n",
            " [0.         0.         0.        ]]\n",
            "Final matrix R:\n",
            "[[3.         5.         3.        ]\n",
            " [0.         0.66666667 0.        ]\n",
            " [0.         0.         0.        ]]\n",
            "Pivot indices: [0, 1]\n",
            "\n",
            "Test on square example (Eq. 4):\n",
            "Step 1 - Row echelon form:\n",
            "[[3. 7. 6.]\n",
            " [2. 5. 4.]\n",
            " [1. 3. 2.]]\n",
            "After elimination step 1:\n",
            "[[3.         7.         6.        ]\n",
            " [0.         0.33333333 0.        ]\n",
            " [0.         0.66666667 0.        ]]\n",
            "Step 2 - Row echelon form:\n",
            "[[3.         7.         6.        ]\n",
            " [0.         0.66666667 0.        ]\n",
            " [0.         0.33333333 0.        ]]\n",
            "After elimination step 2:\n",
            "[[3.         7.         6.        ]\n",
            " [0.         0.66666667 0.        ]\n",
            " [0.         0.         0.        ]]\n",
            "Final matrix R:\n",
            "[[3.         7.         6.        ]\n",
            " [0.         0.66666667 0.        ]\n",
            " [0.         0.         0.        ]]\n",
            "Pivot indices: [0, 1]\n"
          ]
        }
      ]
    },
    {
      "cell_type": "code",
      "source": [
        "def GE_rectangular(A, print_flag):\n",
        "    R = A.copy()  # Create a deep copy of the input matrix A\n",
        "    n, m = R.shape  # Get the number of rows and columns in A\n",
        "    pvt_list = []  # List to store pivot indices\n",
        "    k = 0  # Initialize the column index for pivoting\n",
        "\n",
        "    # Algorithm implementation...\n",
        "    for r in range(n):  # Loop over rows\n",
        "        while (np.all(R[r:, k] == 0)):  # Check if subvector is all-zero\n",
        "            k += 1\n",
        "            if k == m:\n",
        "                return R, pvt_list\n",
        "        # Find the pivot element in the current column\n",
        "        i = np.argmax(np.abs(R[r:, k])) + r\n",
        "        R[[r, i], :] = R[[i, r], :]  # Swap rows\n",
        "        pvt_list.append(k)  # Add the pivot column index\n",
        "        for j in range(r + 1, n):  # Eliminate rows below\n",
        "            λ = R[j, k] / R[r, k]\n",
        "            R[j, :] -= λ * R[r, :]\n",
        "\n",
        "    return R, pvt_list  # Return the row echelon form and pivot list\n"
      ],
      "metadata": {
        "id": "BNl5VvKoVN7U"
      },
      "execution_count": 12,
      "outputs": []
    },
    {
      "cell_type": "code",
      "source": [
        "\n",
        "# Define the GE_rectangular function (Gaussian Elimination)\n",
        "def GE_rectangular(A, print_steps=False):\n",
        "    A = A.astype(float)  # Ensure A is of type float\n",
        "    rows, cols = A.shape\n",
        "    pvt_idx_list = []  # To store pivot indices\n",
        "\n",
        "    # Perform Gaussian Elimination\n",
        "    for i in range(min(rows, cols)):\n",
        "        # Find the pivot row\n",
        "        max_row = np.argmax(np.abs(A[i:, i])) + i\n",
        "        if A[max_row, i] == 0:\n",
        "            continue\n",
        "\n",
        "        # Swap rows\n",
        "        A[[i, max_row]] = A[[max_row, i]]\n",
        "        pvt_idx_list.append(i)\n",
        "\n",
        "        # Make elements below the pivot equal to zero\n",
        "        for j in range(i+1, rows):\n",
        "            if A[j, i] != 0:\n",
        "                factor = A[j, i] / A[i, i]\n",
        "                A[j, i:] -= factor * A[i, i:]\n",
        "\n",
        "        if print_steps:\n",
        "            print(f\"Step {i+1} - Row echelon form:\")\n",
        "            print(A)\n",
        "\n",
        "    return A, pvt_idx_list\n",
        "\n",
        "# Example matrix A2_rect\n",
        "A2_rect = np.array([[1, 2, 3],\n",
        "                    [2, 4, 5],\n",
        "                    [3, 6, 7]], dtype=float)\n",
        "\n",
        "# Call the GE_rectangular function\n",
        "R, pvt_idx_list = GE_rectangular(A2_rect, True)\n",
        "\n",
        "# Print out the row echelon form\n",
        "print(\"Row echelon form of A2_rect:\")\n",
        "print(R)\n",
        "\n",
        "# Print out the indices of pivot values\n",
        "print(\"Indices of pivot values:\")\n",
        "print(pvt_idx_list)\n"
      ],
      "metadata": {
        "id": "nzJ_hSrQVTDR",
        "colab": {
          "base_uri": "https://localhost:8080/"
        },
        "outputId": "f58f0ec2-b912-456e-da96-0be511b74151"
      },
      "execution_count": 13,
      "outputs": [
        {
          "output_type": "stream",
          "name": "stdout",
          "text": [
            "Step 1 - Row echelon form:\n",
            "[[3.         6.         7.        ]\n",
            " [0.         0.         0.33333333]\n",
            " [0.         0.         0.66666667]]\n",
            "Step 3 - Row echelon form:\n",
            "[[3.         6.         7.        ]\n",
            " [0.         0.         0.33333333]\n",
            " [0.         0.         0.66666667]]\n",
            "Row echelon form of A2_rect:\n",
            "[[3.         6.         7.        ]\n",
            " [0.         0.         0.33333333]\n",
            " [0.         0.         0.66666667]]\n",
            "Indices of pivot values:\n",
            "[0, 2]\n"
          ]
        }
      ]
    },
    {
      "cell_type": "code",
      "source": [
        "import numpy as np\n",
        "\n",
        "# Define the GE_rectangular function (Gaussian Elimination)\n",
        "def GE_rectangular(A, print_steps=False):\n",
        "    A = A.astype(float)  # Ensure A is of type float\n",
        "    rows, cols = A.shape\n",
        "    pvt_idx_list = []  # To store pivot indices\n",
        "\n",
        "    # Perform Gaussian Elimination\n",
        "    for i in range(min(rows, cols)):\n",
        "        # Find the pivot row\n",
        "        max_row = np.argmax(np.abs(A[i:, i])) + i\n",
        "        if A[max_row, i] == 0:\n",
        "            continue\n",
        "\n",
        "        # Swap rows\n",
        "        A[[i, max_row]] = A[[max_row, i]]\n",
        "        pvt_idx_list.append(i)\n",
        "\n",
        "        # Make elements below the pivot equal to zero\n",
        "        for j in range(i+1, rows):\n",
        "            if A[j, i] != 0:\n",
        "                factor = A[j, i] / A[i, i]\n",
        "                A[j, i:] -= factor * A[i, i:]\n",
        "\n",
        "        if print_steps:\n",
        "            print(f\"Step {i+1} - Row echelon form:\")\n",
        "            print(A)\n",
        "\n",
        "    return A, pvt_idx_list\n",
        "\n",
        "# Test matrix A1_square (replace with the actual matrix you want to test)\n",
        "A1_square = np.array([[1, 2, 3],\n",
        "                      [2, 4, 5],\n",
        "                      [3, 6, 7]], dtype=float)\n",
        "\n",
        "# Call the GE_rectangular function\n",
        "R, pvt_idx_list = GE_rectangular(A1_square, True)\n",
        "\n",
        "# Print out the row echelon form\n",
        "print(\"Row echelon form of A1_square:\")\n",
        "print(R)\n",
        "\n",
        "# Print out the indices of pivot values\n",
        "print(\"Indices of pivot values:\")\n",
        "print(pvt_idx_list)\n"
      ],
      "metadata": {
        "id": "PeTduw2xcFY5",
        "colab": {
          "base_uri": "https://localhost:8080/"
        },
        "outputId": "49e78168-3448-452f-b4c9-0885d492e0ca"
      },
      "execution_count": 14,
      "outputs": [
        {
          "output_type": "stream",
          "name": "stdout",
          "text": [
            "Step 1 - Row echelon form:\n",
            "[[3.         6.         7.        ]\n",
            " [0.         0.         0.33333333]\n",
            " [0.         0.         0.66666667]]\n",
            "Step 3 - Row echelon form:\n",
            "[[3.         6.         7.        ]\n",
            " [0.         0.         0.33333333]\n",
            " [0.         0.         0.66666667]]\n",
            "Row echelon form of A1_square:\n",
            "[[3.         6.         7.        ]\n",
            " [0.         0.         0.33333333]\n",
            " [0.         0.         0.66666667]]\n",
            "Indices of pivot values:\n",
            "[0, 2]\n"
          ]
        }
      ]
    },
    {
      "cell_type": "code",
      "source": [
        "\n",
        "# Define the GE_rectangular function (Gaussian Elimination)\n",
        "def GE_rectangular(A, print_steps=False):\n",
        "    A = A.astype(float)  # Ensure A is of type float\n",
        "    rows, cols = A.shape\n",
        "    pvt_idx_list = []  # To store pivot indices\n",
        "\n",
        "    # Perform Gaussian Elimination\n",
        "    for i in range(min(rows, cols)):\n",
        "        # Find the pivot row\n",
        "        max_row = np.argmax(np.abs(A[i:, i])) + i\n",
        "        if A[max_row, i] == 0:\n",
        "            continue\n",
        "\n",
        "        # Swap rows\n",
        "        A[[i, max_row]] = A[[max_row, i]]\n",
        "        pvt_idx_list.append(i)\n",
        "\n",
        "        # Make elements below the pivot equal to zero\n",
        "        for j in range(i+1, rows):\n",
        "            if A[j, i] != 0:\n",
        "                factor = A[j, i] / A[i, i]\n",
        "                A[j, i:] -= factor * A[i, i:]\n",
        "\n",
        "        if print_steps:\n",
        "            print(f\"Step {i+1} - Row echelon form:\")\n",
        "            print(A)\n",
        "\n",
        "    return A, pvt_idx_list\n",
        "\n",
        "# Test matrix A2_square (replace with the actual matrix you want to test)\n",
        "A2_square = np.array([[1, 2, 1],\n",
        "                      [2, 4, 2],\n",
        "                      [3, 5, 3]], dtype=float)\n",
        "\n",
        "# Call the GE_rectangular function\n",
        "R, pvt_idx_list = GE_rectangular(A2_square, True)\n",
        "\n",
        "# Print out the row echelon form\n",
        "print(\"Row echelon form of A2_square:\")\n",
        "print(R)\n",
        "\n",
        "# Print out the indices of pivot values\n",
        "print(\"Indices of pivot values:\")\n",
        "print(pvt_idx_list)\n"
      ],
      "metadata": {
        "id": "2wfY1yiFcTR5",
        "colab": {
          "base_uri": "https://localhost:8080/"
        },
        "outputId": "3dd12d48-5b9a-47a9-afbc-dc76d546a35f"
      },
      "execution_count": 15,
      "outputs": [
        {
          "output_type": "stream",
          "name": "stdout",
          "text": [
            "Step 1 - Row echelon form:\n",
            "[[3.         5.         3.        ]\n",
            " [0.         0.66666667 0.        ]\n",
            " [0.         0.33333333 0.        ]]\n",
            "Step 2 - Row echelon form:\n",
            "[[3.         5.         3.        ]\n",
            " [0.         0.66666667 0.        ]\n",
            " [0.         0.         0.        ]]\n",
            "Row echelon form of A2_square:\n",
            "[[3.         5.         3.        ]\n",
            " [0.         0.66666667 0.        ]\n",
            " [0.         0.         0.        ]]\n",
            "Indices of pivot values:\n",
            "[0, 1]\n"
          ]
        }
      ]
    },
    {
      "cell_type": "markdown",
      "source": [
        "**1.3** Matrix rank and number of pivots"
      ],
      "metadata": {
        "id": "fjz2YBq-fUgA"
      }
    },
    {
      "cell_type": "code",
      "source": [
        "from numpy.linalg import matrix_rank\n",
        "\n",
        "# Re-implement the GE_rectangular function (as in the previous example)\n",
        "def GE_rectangular(A):\n",
        "    R = A.copy()  # Deep copy of A to avoid modifying the original matrix\n",
        "    n, m = R.shape  # Get the number of rows and columns\n",
        "    pvt_list = []  # List to store pivot indices\n",
        "    k = 0  # Column index tracker\n",
        "\n",
        "    for r in range(n):\n",
        "        while np.all(R[r:n, k] == 0):  # Check if the subvector is all zeros\n",
        "            k += 1\n",
        "            if k == m:\n",
        "                # If we have exhausted all columns, return the current R and pivot list\n",
        "                return R, pvt_list\n",
        "\n",
        "        # Find the row with the largest absolute value in column k\n",
        "        i = np.argmax(np.abs(R[r:n, k])) + r\n",
        "        # Swap the rows\n",
        "        R[[r, i], :] = R[[i, r], :]\n",
        "\n",
        "        # Add the pivot column index to the pivot list\n",
        "        pvt_list.append(k)\n",
        "\n",
        "        # Eliminate rows below the pivot row\n",
        "        for j in range(r+1, n):\n",
        "            lambda_ = R[j, k] / R[r, k]\n",
        "            R[j, :] -= lambda_ * R[r, :]\n",
        "\n",
        "    return R, pvt_list\n",
        "\n",
        "# Matrices X, Y, Z for testing\n",
        "X = np.array([[1, 2, 4, 1], [3, 6, 12, 3], [4, 8, 16, 4]], dtype=np.float64)\n",
        "Y = np.array([[1, 2, 4, 1], [3, 6, 12, 3], [4, 8, 16, 6]], dtype=np.float64)\n",
        "Z = np.array([[1, 2, 4, 1], [3, 5, 12, 3], [4, 8, 16, 6]], dtype=np.float64)\n",
        "\n",
        "# Validate the ranks of matrices X, Y, and Z using numpy's matrix_rank function\n",
        "r_X = matrix_rank(X)\n",
        "r_Y = matrix_rank(Y)\n",
        "r_Z = matrix_rank(Z)\n",
        "\n",
        "# Print the results\n",
        "print(f\"Rank of X (from numpy): {r_X}\")\n",
        "print(f\"Rank of Y (from numpy): {r_Y}\")\n",
        "print(f\"Rank of Z (from numpy): {r_Z}\")\n",
        "\n",
        "# Function to print REF and rank details\n",
        "def print_ref_and_rank(A, matrix_name):\n",
        "    REF, pivots = GE_rectangular(A)\n",
        "    rank = len(pivots)  # Rank is the number of pivots\n",
        "    print(f\"Reduced Row Echelon Form (RREF) of {matrix_name}:\\n{REF}\")\n",
        "    print(f\"Pivots in {matrix_name}: {pivots}\")\n",
        "    print(f\"Rank of {matrix_name}: {rank}\")\n",
        "    print(f\"Numpy's computed rank of {matrix_name}: {matrix_rank(A)}\\n\")\n",
        "\n",
        "# Call the function for each matrix X, Y, Z\n",
        "print_ref_and_rank(X, \"X\")\n",
        "print_ref_and_rank(Y, \"Y\")\n",
        "print_ref_and_rank(Z, \"Z\")\n"
      ],
      "metadata": {
        "id": "3EGgNp66jA8u",
        "colab": {
          "base_uri": "https://localhost:8080/"
        },
        "outputId": "4c3f0f4a-7bfc-4f51-cded-1d303cebc557"
      },
      "execution_count": 26,
      "outputs": [
        {
          "output_type": "stream",
          "name": "stdout",
          "text": [
            "Rank of X (from numpy): 1\n",
            "Rank of Y (from numpy): 2\n",
            "Rank of Z (from numpy): 3\n",
            "Reduced Row Echelon Form (RREF) of X:\n",
            "[[ 4.  8. 16.  4.]\n",
            " [ 0.  0.  0.  0.]\n",
            " [ 0.  0.  0.  0.]]\n",
            "Pivots in X: [0]\n",
            "Rank of X: 1\n",
            "Numpy's computed rank of X: 1\n",
            "\n",
            "Reduced Row Echelon Form (RREF) of Y:\n",
            "[[ 4.   8.  16.   6. ]\n",
            " [ 0.   0.   0.  -1.5]\n",
            " [ 0.   0.   0.   0. ]]\n",
            "Pivots in Y: [0, 3]\n",
            "Rank of Y: 2\n",
            "Numpy's computed rank of Y: 2\n",
            "\n",
            "Reduced Row Echelon Form (RREF) of Z:\n",
            "[[ 4.   8.  16.   6. ]\n",
            " [ 0.  -1.   0.  -1.5]\n",
            " [ 0.   0.   0.  -0.5]]\n",
            "Pivots in Z: [0, 1, 3]\n",
            "Rank of Z: 3\n",
            "Numpy's computed rank of Z: 3\n",
            "\n"
          ]
        }
      ]
    },
    {
      "cell_type": "code",
      "source": [
        "from numpy.linalg import matrix_rank\n",
        "\n",
        "# Matrix definitions\n",
        "X = np.array([[1, 2, 4, 1], [3, 6, 12, 3], [4, 8, 16, 4]], dtype=np.float64)\n",
        "Y = np.array([[1, 2, 4, 1], [3, 6, 12, 3], [4, 8, 16, 6]], dtype=np.float64)\n",
        "Z = np.array([[1, 2, 4, 1], [3, 5, 12, 3], [4, 8, 16, 6]], dtype=np.float64)\n",
        "\n",
        "# Validate ranks using numpy.linalg.matrix_rank\n",
        "r_X = matrix_rank(X)\n",
        "r_Y = matrix_rank(Y)\n",
        "r_Z = matrix_rank(Z)\n",
        "\n",
        "# Compute nullity (dimension of null space)\n",
        "nullity_X = X.shape[1] - r_X\n",
        "nullity_Y = Y.shape[1] - r_Y\n",
        "nullity_Z = Z.shape[1] - r_Z\n",
        "\n",
        "# Output the results\n",
        "print(f\"rank(X) = {r_X}, dimension of null(X) = {nullity_X}\")\n",
        "print(f\"rank(Y) = {r_Y}, dimension of null(Y) = {nullity_Y}\")\n",
        "print(f\"rank(Z) = {r_Z}, dimension of null(Z) = {nullity_Z}\")\n"
      ],
      "metadata": {
        "id": "qYyRwHEwBUrh",
        "colab": {
          "base_uri": "https://localhost:8080/"
        },
        "outputId": "35620543-c9dd-4fba-ef2f-6d705307e649"
      },
      "execution_count": 27,
      "outputs": [
        {
          "output_type": "stream",
          "name": "stdout",
          "text": [
            "rank(X) = 1, dimension of null(X) = 3\n",
            "rank(Y) = 2, dimension of null(Y) = 2\n",
            "rank(Z) = 3, dimension of null(Z) = 1\n"
          ]
        }
      ]
    },
    {
      "cell_type": "markdown",
      "source": [
        "**Please double-click here and fill in the rank and dimension of nullspace of the these matrices**\n",
        "\n",
        "rank(X) = 1, dimension of null(X) = 3\n",
        "\n",
        "rank(Y) = 2, dimension of null(Y) = 2\n",
        "\n",
        "rank(Z) = 3, dimension of null(Z) = 1\n"
      ],
      "metadata": {
        "id": "5DsM9r44rEmE"
      }
    }
  ]
}