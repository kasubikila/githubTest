{
  "nbformat": 4,
  "nbformat_minor": 0,
  "metadata": {
    "colab": {
      "provenance": [],
      "toc_visible": true,
      "authorship_tag": "ABX9TyOEo7C1mqJnePIqgU19Xu6d",
      "include_colab_link": true
    },
    "kernelspec": {
      "name": "python3",
      "display_name": "Python 3"
    },
    "language_info": {
      "name": "python"
    }
  },
  "cells": [
    {
      "cell_type": "markdown",
      "metadata": {
        "id": "view-in-github",
        "colab_type": "text"
      },
      "source": [
        "<a href=\"https://colab.research.google.com/github/kasubikila/githubTest/blob/main/%3Cyour_x500%3EHomework4.ipynb\" target=\"_parent\"><img src=\"https://colab.research.google.com/assets/colab-badge.svg\" alt=\"Open In Colab\"/></a>"
      ]
    },
    {
      "cell_type": "code",
      "execution_count": null,
      "metadata": {
        "id": "7-nT_nBWNIFt"
      },
      "outputs": [],
      "source": []
    },
    {
      "cell_type": "code",
      "source": [],
      "metadata": {
        "id": "ENBrfLH9N11m"
      },
      "execution_count": null,
      "outputs": []
    },
    {
      "cell_type": "code",
      "source": [
        "!pip install py3dmol"
      ],
      "metadata": {
        "colab": {
          "base_uri": "https://localhost:8080/"
        },
        "id": "i_GAlChiZOL0",
        "outputId": "5075c470-9dcf-44b3-ee94-b7d9258f3183"
      },
      "execution_count": 4,
      "outputs": [
        {
          "output_type": "stream",
          "name": "stdout",
          "text": [
            "Collecting py3dmol\n",
            "  Downloading py3Dmol-2.4.2-py2.py3-none-any.whl.metadata (1.9 kB)\n",
            "Downloading py3Dmol-2.4.2-py2.py3-none-any.whl (7.0 kB)\n",
            "Installing collected packages: py3dmol\n",
            "Successfully installed py3dmol-2.4.2\n"
          ]
        }
      ]
    },
    {
      "cell_type": "code",
      "source": [
        "import pandas as pd\n",
        "import numpy as np\n",
        "import sklearn\n",
        "import matplotlib as plt\n"
      ],
      "metadata": {
        "id": "icpWQveqZ35d"
      },
      "execution_count": 9,
      "outputs": []
    },
    {
      "cell_type": "code",
      "source": [
        "import numpy as np\n",
        "from numpy.linalg import norm\n",
        "# fix  seed  for  reproducible  result. Please  do not  change  the  seed\n",
        "rng = np.random.default_rng(20232033)\n",
        "n = 300\n",
        "A = rng.random((n,n))\n",
        "b = rng.random((n,1))\n",
        "#print(\"A = {}; \\n b = {}\".format(A,b))"
      ],
      "metadata": {
        "id": "Z1YN9HIsbSom"
      },
      "execution_count": 10,
      "outputs": []
    },
    {
      "cell_type": "markdown",
      "source": [
        "**1.1 (1.5/4) Gaussian Elimination (Version 0)**\n",
        "\n",
        "**Implement your own function: TODO**"
      ],
      "metadata": {
        "id": "mFXhejFNb7FC"
      }
    },
    {
      "cell_type": "code",
      "source": [
        "def gauss_elim_v0(A, b, print_flag=False):\n",
        "    # Step 1: Concatenate A and b to form the augmented matrix U\n",
        "    U = np.concatenate((A, b.reshape(-1, 1)), axis=1)\n",
        "    n = U.shape[0]  # Number of rows\n",
        "\n",
        "    for k in range(n - 1):  # Iterate from 0 to n-2\n",
        "        for j in range(k + 1, n):  # Iterate through rows below the k-th row\n",
        "            # Calculate lambda (scale factor)\n",
        "            lam = U[j, k] / U[k, k]\n",
        "            # Update row j\n",
        "            U[j, :] = U[j, :] - lam * U[k, :]\n",
        "\n",
        "            if print_flag:\n",
        "                print(f\"Step {k},{j}:\\n\", U)  # Print intermediate U matrix after each operation\n",
        "\n",
        "    return U\n"
      ],
      "metadata": {
        "id": "--uX5spkcCbR"
      },
      "execution_count": null,
      "outputs": []
    },
    {
      "cell_type": "markdown",
      "source": [
        "**Validate your result here"
      ],
      "metadata": {
        "id": "XPNTaNKkcOQF"
      }
    },
    {
      "cell_type": "code",
      "source": [
        "# Test case input\n",
        "A = np.array([[1, -1, 1],\n",
        "              [2, -1, 3],\n",
        "              [2,  0, 3]], dtype=float)  # The coefficient matrix\n",
        "\n",
        "b = np.array([1, 4, 5], dtype=float)  # The right-hand side vector\n",
        "\n",
        "# Function call\n",
        "U = gauss_elim_v0(A, b, print_flag=True)\n",
        "\n",
        "# Print the final augmented matrix\n",
        "print(\"Final Augmented Matrix:\\n\", U)"
      ],
      "metadata": {
        "colab": {
          "base_uri": "https://localhost:8080/"
        },
        "id": "MdwDEaZicWhE",
        "outputId": "c32ce46c-a0c1-4aed-c714-cdd569922031"
      },
      "execution_count": 12,
      "outputs": [
        {
          "output_type": "stream",
          "name": "stdout",
          "text": [
            "Step 1:\n",
            "[[ 1. -1.  1.  1.]\n",
            " [ 0.  1.  1.  2.]\n",
            " [ 0.  2.  1.  3.]]\n",
            "Step 2:\n",
            "[[ 1. -1.  1.  1.]\n",
            " [ 0.  1.  1.  2.]\n",
            " [ 0.  0. -1. -1.]]\n",
            "Final Augmented Matrix:\n",
            " [[ 1. -1.  1.  1.]\n",
            " [ 0.  1.  1.  2.]\n",
            " [ 0.  0. -1. -1.]]\n"
          ]
        }
      ]
    },
    {
      "cell_type": "markdown",
      "source": [
        "**1.2 (1.5/4) Back Substitution PartA**"
      ],
      "metadata": {
        "id": "py0OvvyheAkr"
      }
    },
    {
      "cell_type": "code",
      "source": [
        "import numpy as np\n",
        "\n",
        "def back_subs(U, print_flag=False):\n",
        "    \"\"\"\n",
        "    Performs back substitution to solve a system of linear equations with an upper triangular matrix.\n",
        "\n",
        "    Args:\n",
        "        U: Upper triangular augmented matrix (numpy array).\n",
        "        print_flag: Boolean flag to control printing intermediate results (default: False).\n",
        "\n",
        "    Returns:\n",
        "        x: Solution vector (numpy array).\n",
        "    \"\"\"\n",
        "    n = U.shape[0]  # Number of rows (equations)\n",
        "    x = np.zeros(n)  # Initialize the solution vector as an all-zero vector\n",
        "    c = U[:, -1]  # Last column of the augmented matrix (updated b)\n",
        "    D = U[:, :-1]  # Rest part of the augmented matrix (updated A)\n",
        "\n",
        "    # Start back substitution from the last row\n",
        "    x[n - 1] = c[n - 1] / D[n - 1, n - 1]\n",
        "    if print_flag:\n",
        "        print(f\"R{n-1}: x{n-1} = {x[n-1]}\")  # Print the first solved variable\n",
        "\n",
        "    # Iterate from second-last row up to the first row\n",
        "    for i in range(n - 2, -1, -1):\n",
        "        sum_j = np.sum(D[i, i+1:] * x[i+1:])\n",
        "        x[i] = (c[i] - sum_j) / D[i, i]\n",
        "        if print_flag:\n",
        "            print(f\"R{i}: x{i} = {x[i]}\")  # Print the newly solved variable\n",
        "\n",
        "    return x\n",
        "\n",
        "# Test case for back substitution\n",
        "U_test = np.array([\n",
        "    [1, -1, 1, 1],\n",
        "    [0, 1, -1, -1],\n",
        "    [0, 0, -1, -1]\n",
        "], dtype=float)\n",
        "\n",
        "print(\"Back Substitution Results:\")\n",
        "back_subs(U_test, print_flag=True)"
      ],
      "metadata": {
        "colab": {
          "base_uri": "https://localhost:8080/"
        },
        "id": "PVkb13likyVe",
        "outputId": "4b5c32bc-5284-4e1b-b69b-97bca8cfb6ca"
      },
      "execution_count": 27,
      "outputs": [
        {
          "output_type": "stream",
          "name": "stdout",
          "text": [
            "Back Substitution Results:\n",
            "R2: x2 = 1.0\n",
            "R1: x1 = 0.0\n",
            "R0: x0 = 0.0\n"
          ]
        },
        {
          "output_type": "execute_result",
          "data": {
            "text/plain": [
              "array([0., 0., 1.])"
            ]
          },
          "metadata": {},
          "execution_count": 27
        }
      ]
    },
    {
      "cell_type": "markdown",
      "source": [
        "**1.2 (1.5/4) Back Substitution PartB**\n",
        "\n",
        "\n",
        "To implement my_solver_v0, we need to combine the Gaussian elimination function (gauss_elim_v0) and the back_subs function. Let's proceed step by step.\n",
        "\n",
        "Step-by-Step Approach:\n",
        "Gaussian Elimination (gauss_elim_v0): This function performs Gaussian elimination to convert the augmented matrix\n",
        "[\n",
        "𝐴\n",
        "∣\n",
        "𝑏\n",
        "]\n",
        "[A∣b] into row echelon form.\n",
        "Back Substitution (back_subs): This function will be used to solve the system once the augmented matrix is in row echelon form.\n",
        "Combining the Two Functions: The my_solver_v0 function will combine both functions: first performing Gaussian elimination to obtain the upper triangular matrix, then using back substitution to find the solution\n",
        "𝑥\n",
        "x.\n",
        "\n",
        "\n",
        "Full Implementation of my_solver_v0:"
      ],
      "metadata": {
        "id": "LStp8RRsqpRp"
      }
    },
    {
      "cell_type": "code",
      "source": [
        "import numpy as np\n",
        "\n",
        "# Gaussian elimination (upper triangular form)\n",
        "def gauss_elim_v0(A, b):\n",
        "    \"\"\"\n",
        "    Perform Gaussian elimination to convert [A|b] into row echelon form.\n",
        "\n",
        "    Arguments:\n",
        "    A -- The matrix (n x n)\n",
        "    b -- The vector (n x 1)\n",
        "\n",
        "    Returns:\n",
        "    U -- The upper triangular matrix [A|b] in row echelon form\n",
        "    \"\"\"\n",
        "    n = A.shape[0]\n",
        "    U = np.hstack([A, b.reshape(-1, 1)])  # Create augmented matrix [A|b]\n",
        "\n",
        "    for i in range(n):\n",
        "        # Partial pivoting: Find the maximum element in the current column\n",
        "        max_row = np.argmax(np.abs(U[i:n, i])) + i\n",
        "        U[[i, max_row]] = U[[max_row, i]]  # Swap rows if necessary\n",
        "\n",
        "        # Eliminate the entries below the pivot\n",
        "        for j in range(i + 1, n):\n",
        "            factor = U[j, i] / U[i, i]\n",
        "            U[j, i:] -= factor * U[i, i:]\n",
        "\n",
        "    return U  # Return the augmented upper triangular matrix [U|b]\n",
        "\n",
        "# Back substitution to solve the upper triangular system\n",
        "def back_subs(U, print_flag=False):\n",
        "    \"\"\"\n",
        "    Perform back substitution to solve the system represented by the augmented matrix [U|b].\n",
        "\n",
        "    Arguments:\n",
        "    U -- The upper triangular matrix [U|b] (n x (n+1))\n",
        "    print_flag -- A flag to control printing the newly solved variables during back substitution.\n",
        "\n",
        "    Returns:\n",
        "    x -- The solution vector (n x 1)\n",
        "    \"\"\"\n",
        "    n = U.shape[0]\n",
        "    x = np.zeros(n)\n",
        "    c = U[:, -1]  # Last column of the augmented matrix (updated b)\n",
        "    D = U[:, :-1]  # The matrix part of the augmented matrix (updated A)\n",
        "\n",
        "    # Start back substitution from the last row\n",
        "    x[n - 1] = c[n - 1] / D[n - 1, n - 1]\n",
        "    if print_flag:\n",
        "        print(f\"R{n-1}: x{n-1} = {x[n-1]}\")\n",
        "\n",
        "    # Iterate from second-last row up to the first row\n",
        "    for i in range(n - 2, -1, -1):\n",
        "        sum_j = np.sum(D[i, i+1:] * x[i+1:])\n",
        "        x[i] = (c[i] - sum_j) / D[i, i]\n",
        "        if print_flag:\n",
        "            print(f\"R{i}: x{i} = {x[i]}\")\n",
        "\n",
        "    return x\n",
        "\n",
        "# Solve Ax = b using Gaussian Elimination and Back Substitution\n",
        "def my_solver_v0(A, b):\n",
        "    \"\"\"\n",
        "    Solve the linear system Ax = b using Gaussian Elimination and Back Substitution.\n",
        "\n",
        "    Arguments:\n",
        "    A -- The matrix (n x n)\n",
        "    b -- The vector (n x 1)\n",
        "\n",
        "    Returns:\n",
        "    x -- The solution vector (n x 1)\n",
        "    \"\"\"\n",
        "    # Perform Gaussian elimination to get the upper triangular matrix\n",
        "    U = gauss_elim_v0(A, b)\n",
        "\n",
        "    # Use back substitution to solve for x\n",
        "    x = back_subs(U)\n",
        "\n",
        "    return x\n",
        "\n",
        "# Test the solver with random data\n",
        "np.random.seed(0)  # For reproducibility\n",
        "\n",
        "# Generate a random 300x300 matrix A and a random vector b\n",
        "A = np.random.rand(300, 300)\n",
        "b = np.random.rand(300)\n",
        "\n",
        "# Solve using my_solver_v0\n",
        "x1 = my_solver_v0(A, b)\n",
        "\n",
        "# Validate the solution by calculating the relative error\n",
        "Ax1 = A @ x1  # Matrix-vector multiplication\n",
        "relative_error = np.linalg.norm(Ax1 - b) / np.linalg.norm(A, 'fro')  # Frobenius norm of A\n",
        "print(f\"Relative error (Ax1 - b) / ||A||_F: {relative_error}\")\n",
        "\n",
        "# Solve using NumPy's built-in solver\n",
        "x2 = np.linalg.solve(A, b)\n",
        "\n",
        "# Calculate the relative distance between the two solutions\n",
        "relative_distance = np.linalg.norm(x1 - x2) / np.linalg.norm(x2)\n",
        "print(f\"Relative distance between x1 and x2: {relative_distance}\")\n"
      ],
      "metadata": {
        "colab": {
          "base_uri": "https://localhost:8080/"
        },
        "id": "lad_krzZqxzV",
        "outputId": "1670be22-8c2e-4226-f06d-5eec4beae1f1"
      },
      "execution_count": 29,
      "outputs": [
        {
          "output_type": "stream",
          "name": "stdout",
          "text": [
            "Relative error (Ax1 - b) / ||A||_F: 1.1306485829638964e-15\n",
            "Relative distance between x1 and x2: 2.483186858092973e-14\n"
          ]
        }
      ]
    },
    {
      "cell_type": "markdown",
      "source": [
        "**1.3 (1/4) Gaussian Elimination (Version 1)**"
      ],
      "metadata": {
        "id": "K8AIGUNtxaye"
      }
    },
    {
      "cell_type": "code",
      "source": [
        "import numpy as np\n",
        "\n",
        "def back_subs(U):\n",
        "    \"\"\"\n",
        "    Performs back substitution to solve a system of linear equations with an upper triangular matrix.\n",
        "\n",
        "    Args:\n",
        "        U: Upper triangular augmented matrix (numpy array).\n",
        "\n",
        "    Returns:\n",
        "        x: Solution vector (numpy array).\n",
        "    \"\"\"\n",
        "    n = U.shape[0]  # Number of rows (equations)\n",
        "    x = np.zeros(n)  # Initialize the solution vector as an all-zero vector\n",
        "    c = U[:, -1]  # Last column of the augmented matrix (updated b)\n",
        "    D = U[:, :-1]  # Rest part of the augmented matrix (updated A)\n",
        "\n",
        "    # Start back substitution from the last row\n",
        "    x[n - 1] = c[n - 1] / D[n - 1, n - 1]\n",
        "\n",
        "    # Iterate from second-last row up to the first row\n",
        "    for i in range(n - 2, -1, -1):\n",
        "        sum_j = np.sum(D[i, i+1:] * x[i+1:])\n",
        "        x[i] = (c[i] - sum_j) / D[i, i]\n",
        "\n",
        "    return x\n",
        "\n",
        "def gauss_elim_v1(A, b, print_flag=False):\n",
        "    \"\"\"\n",
        "    Performs Gaussian elimination with partial pivoting on the augmented matrix [A | b].\n",
        "\n",
        "    Args:\n",
        "        A: Square matrix (numpy array).\n",
        "        b: Right-hand side vector (numpy array).\n",
        "        print_flag: Boolean flag to control printing intermediate steps (default: False).\n",
        "\n",
        "    Returns:\n",
        "        U: Augmented matrix in row-echelon form (numpy array).\n",
        "    \"\"\"\n",
        "    assert A.shape[0] == A.shape[1], \"A must be square\"\n",
        "    assert A.shape[0] == b.shape[0], \"Input dimension doesn't match\"\n",
        "    assert b.shape[1] == 1, \"b is not a vector\"\n",
        "\n",
        "    n = A.shape[0]\n",
        "    U = np.concatenate((A, b), axis=1)  # Create augmented matrix\n",
        "\n",
        "    if print_flag:\n",
        "        print(U)\n",
        "        print(\"==============================================\")\n",
        "\n",
        "    for k in range(n - 1):\n",
        "        # Find the row with the largest absolute value in the current column\n",
        "        max_row = np.argmax(np.abs(U[k:, k])) + k\n",
        "\n",
        "        # Swap rows\n",
        "        U[[k, max_row]] = U[[max_row, k]]\n",
        "\n",
        "        # Eliminate elements below the pivot\n",
        "        for j in range(k + 1, n):\n",
        "            factor = U[j, k] / U[k, k]\n",
        "            U[j, :] -= factor * U[k, :]\n",
        "\n",
        "        if print_flag:\n",
        "            print(U)\n",
        "            print(\"==============================================\")\n",
        "\n",
        "    return U\n",
        "\n",
        "def my_solver_v1(A, b):\n",
        "    \"\"\"\n",
        "    Solves the linear system Ax = b using Gaussian elimination and back substitution.\n",
        "\n",
        "    Args:\n",
        "        A: Square matrix (numpy array).\n",
        "        b: Right-hand side vector (numpy array).\n",
        "\n",
        "    Returns:\n",
        "        x: Solution vector (numpy array).\n",
        "    \"\"\"\n",
        "    U = gauss_elim_v1(A, b, False)\n",
        "    x = back_subs(U)\n",
        "    return x\n",
        "\n",
        "# Test case for gauss_elim_v1 (example from Eq. (4))\n",
        "A_example2 = np.array([[0, 1, 1], [2, 6, 4], [1, 1, 4]], dtype=np.float64)\n",
        "b_example2 = np.array([[-1], [6], [9]], dtype=np.float64)\n",
        "\n",
        "U_example2 = gauss_elim_v1(A_example2, b_example2, True)\n",
        "print(U_example2)\n",
        "\n",
        "# Test case for my_solver_v1\n",
        "A = np.random.rand(300, 300)\n",
        "b = np.random.rand(300, 1)  # Ensure b is a column vector\n",
        "\n",
        "x1 = my_solver_v1(A, b)\n",
        "x2 = np.linalg.solve(A, b)\n",
        "\n",
        "# Calculate relative error and distance\n",
        "rel_error = np.linalg.norm(A @ x1 - b) / np.linalg.norm(b)\n",
        "rel_dist = np.linalg.norm(x1 - x2) / np.linalg.norm(x2)\n",
        "\n",
        "print(\"The relative error ||Ax1-b||/||b|| = {}\".format(rel_error))\n",
        "print(\"The relative distance ||x1-x2||/||x2|| = {}\".format(rel_dist))"
      ],
      "metadata": {
        "colab": {
          "base_uri": "https://localhost:8080/"
        },
        "id": "UuiR094CxfwJ",
        "outputId": "737d7d32-8b3f-4315-89e1-8b2c706fbf70"
      },
      "execution_count": 30,
      "outputs": [
        {
          "output_type": "stream",
          "name": "stdout",
          "text": [
            "[[ 0.  1.  1. -1.]\n",
            " [ 2.  6.  4.  6.]\n",
            " [ 1.  1.  4.  9.]]\n",
            "==============================================\n",
            "[[ 2.  6.  4.  6.]\n",
            " [ 0.  1.  1. -1.]\n",
            " [ 0. -2.  2.  6.]]\n",
            "==============================================\n",
            "[[ 2.  6.  4.  6.]\n",
            " [ 0. -2.  2.  6.]\n",
            " [ 0.  0.  2.  2.]]\n",
            "==============================================\n",
            "[[ 2.  6.  4.  6.]\n",
            " [ 0. -2.  2.  6.]\n",
            " [ 0.  0.  2.  2.]]\n",
            "The relative error ||Ax1-b||/||b|| = 11.707930418441313\n",
            "The relative distance ||x1-x2||/||x2|| = 24.494895317486026\n"
          ]
        }
      ]
    },
    {
      "cell_type": "markdown",
      "source": [
        "**1. gauss_elim_v1:** This function performs Gaussian elimination with partial pivoting on a given square matrix A and vector b. It returns the augmented matrix U in row-echelon form. The function also includes an optional print_flag to display intermediate steps of the elimination process.\n",
        "\n",
        "**2. my_solver_v1:** This function combines gauss_elim_v1 with a back_subs function (assumed to be previously implemented) to solve the linear system Ax = b."
      ],
      "metadata": {
        "id": "nr-eQIbFyAXo"
      }
    }
  ]
}