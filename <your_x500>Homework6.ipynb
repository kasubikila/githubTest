{
  "nbformat": 4,
  "nbformat_minor": 0,
  "metadata": {
    "colab": {
      "provenance": [],
      "include_colab_link": true
    },
    "kernelspec": {
      "name": "python3",
      "display_name": "Python 3"
    },
    "language_info": {
      "name": "python"
    }
  },
  "cells": [
    {
      "cell_type": "markdown",
      "metadata": {
        "id": "view-in-github",
        "colab_type": "text"
      },
      "source": [
        "<a href=\"https://colab.research.google.com/github/kasubikila/githubTest/blob/main/%3Cyour_x500%3EHomework6.ipynb\" target=\"_parent\"><img src=\"https://colab.research.google.com/assets/colab-badge.svg\" alt=\"Open In Colab\"/></a>"
      ]
    },
    {
      "cell_type": "code",
      "execution_count": null,
      "metadata": {
        "id": "k6teZb8BsFH7"
      },
      "outputs": [],
      "source": [
        "import numpy as np\n",
        "import matplotlib.pyplot as plt"
      ]
    },
    {
      "cell_type": "markdown",
      "source": [
        "# 1.1 Finding critical points of a single variable functions using gradient descent"
      ],
      "metadata": {
        "id": "gMuSbflf5s08"
      }
    },
    {
      "cell_type": "markdown",
      "source": [
        "We will use gradient descent to find the minimum of the polynomial below."
      ],
      "metadata": {
        "id": "DVWPrdUg9_GG"
      }
    },
    {
      "cell_type": "code",
      "source": [
        "def f(x):\n",
        "  return 2 * x**6 + 2 * x**5 - 2 * x**4 - x**3 +2\n",
        "\n",
        "# plot of the polynomial\n",
        "x = np.linspace(-1.5, 1, 100)\n",
        "plt.figure()\n",
        "plt.plot(x, f(x))\n",
        "plt.show()\n"
      ],
      "metadata": {
        "id": "Apjr1Yv25rDH",
        "outputId": "191402ee-1c0f-41ec-f718-2f61307dadcd",
        "colab": {
          "base_uri": "https://localhost:8080/",
          "height": 430
        }
      },
      "execution_count": null,
      "outputs": [
        {
          "output_type": "display_data",
          "data": {
            "text/plain": [
              "<Figure size 640x480 with 1 Axes>"
            ],
            "image/png": "[encoded data removed]"
          },
          "metadata": {}
        }
      ]
    },
    {
      "cell_type": "markdown",
      "source": [
        "## (a) Computing the derivative of the function\n",
        "\n",
        "Write the body of the function df(x) which returns the derivative of the function f(x) at the point x."
      ],
      "metadata": {
        "id": "I990Df2wKUfA"
      }
    },
    {
      "cell_type": "code",
      "source": [
        "def df(x):\n",
        "    # Derivative of the function f(x)\n",
        "    return 12 * x**5 + 10 * x**4 - 8 * x**3 - 3 * x**2\n",
        "\n",
        "# Check the derivative at specific points\n",
        "print(f\"Derivative at x = -1.5: {df(-1.5)}\")\n",
        "print(f\"Derivative at x = -1: {df(-1)}\")\n",
        "print(f\"Derivative at x = -0.5: {df(-0.5)}\")\n",
        "print(f\"Derivative at x = 0: {df(0)}\")\n",
        "print(f\"Derivative at x = 1: {df(1)}\")\n"
      ],
      "metadata": {
        "id": "l72gKhZl-o1O",
        "colab": {
          "base_uri": "https://localhost:8080/"
        },
        "outputId": "243f7a67-922c-408d-fc64-9e002833f61d"
      },
      "execution_count": null,
      "outputs": [
        {
          "output_type": "stream",
          "name": "stdout",
          "text": [
            "Derivative at x = -1.5: -20.25\n",
            "Derivative at x = -1: 3\n",
            "Derivative at x = -0.5: 0.5\n",
            "Derivative at x = 0: 0\n",
            "Derivative at x = 1: 11\n"
          ]
        }
      ]
    },
    {
      "cell_type": "markdown",
      "source": [
        "## (b) Write the code for the gradient descent algorithm\n",
        "\n",
        "Use the pseudo-code provided to write the gradient descent algorithm below."
      ],
      "metadata": {
        "id": "UdRVynFHLlna"
      }
    },
    {
      "cell_type": "code",
      "source": [
        "# Function to minimize\n",
        "def f(x):\n",
        "    return 2 * x**6 + 2 * x**5 - 2 * x**4 - x**3 + 2\n",
        "\n",
        "# Derivative of the function\n",
        "def df(x):\n",
        "    return 12 * x**5 + 10 * x**4 - 8 * x**3 - 3 * x**2\n",
        "\n",
        "# Gradient Descent function\n",
        "def gradient_descent(x0, dF, learning_rate=0.001, tolerance=1e-6, max_iters=10000):\n",
        "    x = x0\n",
        "    for _ in range(max_iters):\n",
        "        x_new = x - learning_rate * dF(x)\n",
        "        if abs(f(x_new) - f(x)) < tolerance:\n",
        "            break\n",
        "        x = x_new\n",
        "    return x\n",
        "\n",
        "# Initial guess\n",
        "x0 = -1.5\n",
        "result = gradient_descent(x0, df)\n",
        "\n",
        "# Print the result\n",
        "print(\"Minimum found at x =\", result)\n",
        "print(\"f(x) at the minimum =\", f(result))\n",
        "\n",
        "# Plot the function and the result\n",
        "x = np.linspace(-1.5, 1, 100)\n",
        "plt.plot(x, f(x), label=\"f(x)\")\n",
        "plt.scatter(result, f(result), color=\"red\", label=\"Minimum\")\n",
        "plt.legend()\n",
        "plt.show()"
      ],
      "metadata": {
        "id": "xSN0sIcRJkFW",
        "colab": {
          "base_uri": "https://localhost:8080/",
          "height": 465
        },
        "outputId": "645dd944-b86e-4caf-a55e-eda573e674cd"
      },
      "execution_count": null,
      "outputs": [
        {
          "output_type": "stream",
          "name": "stdout",
          "text": [
            "Minimum found at x = -1.2140414379794262\n",
            "f(x) at the minimum = 0.5736329221970602\n"
          ]
        },
        {
          "output_type": "display_data",
          "data": {
            "text/plain": [
              "<Figure size 640x480 with 1 Axes>"
            ],
            "image/png": "[encoded data removed]"
          },
          "metadata": {}
        }
      ]
    },
    {
      "cell_type": "markdown",
      "source": [
        "We will now see how our algorithm deals with different initial guesses."
      ],
      "metadata": {
        "id": "4pMHE_CVPuHh"
      }
    },
    {
      "cell_type": "code",
      "source": [
        "# Gradient Descent function\n",
        "def gradient_descent(x0, dF, learning_rate=0.001, tolerance=1e-6, max_iters=10000):\n",
        "    x = x0\n",
        "    for _ in range(max_iters):\n",
        "        x_new = x - learning_rate * dF(x)\n",
        "        if abs(f(x_new) - f(x)) < tolerance:\n",
        "            break\n",
        "        x = x_new\n",
        "    return x\n",
        "\n",
        "# Gradient descent with an initial guess x0 = 0\n",
        "result = gradient_descent(0, df)\n",
        "\n",
        "# Plot the function and the result\n",
        "x = np.linspace(-1.5, 1, 100)\n",
        "plt.figure()\n",
        "plt.plot(x, f(x), label=\"f(x)\")\n",
        "plt.scatter(result, f(result), color=\"red\", label=\"Minimum\")\n",
        "plt.legend()\n",
        "plt.show()\n",
        "\n",
        "# Print the result\n",
        "print(\"Minimum found at x =\", result)\n",
        "print(\"f(x) at the minimum =\", f(result))\n"
      ],
      "metadata": {
        "id": "E1adjnpRM1O_",
        "colab": {
          "base_uri": "https://localhost:8080/",
          "height": 465
        },
        "outputId": "8914c3dd-9e48-46f1-9191-b6a804358415"
      },
      "execution_count": null,
      "outputs": [
        {
          "output_type": "display_data",
          "data": {
            "text/plain": [
              "<Figure size 640x480 with 1 Axes>"
            ],
            "image/png": "[encoded data removed]"
          },
          "metadata": {}
        },
        {
          "output_type": "stream",
          "name": "stdout",
          "text": [
            "Minimum found at x = 0\n",
            "f(x) at the minimum = 2\n"
          ]
        }
      ]
    },
    {
      "cell_type": "markdown",
      "source": [
        "#### TODO: What do you observe from the plots? Where does the algorithm usually get stuck? Is it always at the lowest point of the function?"
      ],
      "metadata": {
        "id": "5GS9Lp0bP3SM"
      }
    },
    {
      "cell_type": "markdown",
      "source": [
        "**TODO WRITE YOUR ANSWER HERE**\n",
        "Behavior of the Gradient Descent Algorithm:\n",
        "\n",
        "1. The gradient descent algorithm successfully converges to a local minimum of the function depending on the initial guess x0.\n",
        "Where Does the Algorithm Get Stuck?:\n",
        "\n",
        "2. The algorithm can get stuck at local minima instead of reaching the global minimum if the function has multiple minima. For example, if the starting point x0 is close to a local minimum, the algorithm will converge to that point because gradient descent follows the steepest descent based on the derivative.\n",
        "It can also \"stall\" when the gradient becomes very small but doesn't reach exactly zero, as the step size (determined by the learning rate) becomes too small to make meaningful updates.\n",
        "Does It Always Reach the Lowest Point?:\n",
        "\n",
        "3. No, gradient descent does not always find the global minimum. Its behavior depends heavily on the starting point x0 and the shape of the function.\n",
        "For example, if the function has multiple local minima, gradient descent will converge to the closest one based on the direction of the initial gradient. This may or may not be the global minimum.\n",
        "Learning Rate Impact:\n",
        "\n",
        "4. A very small learning rate can cause slow convergence, and the algorithm may appear to \"get stuck\" before reaching a minimum.\n",
        "A very large learning rate can cause the algorithm to overshoot minima or fail to converge, bouncing back and forth between points."
      ],
      "metadata": {
        "id": "09pcY6ScQFvZ"
      }
    },
    {
      "cell_type": "markdown",
      "source": [
        "# 1.2 Using gradient descent in digit classification"
      ],
      "metadata": {
        "id": "MFJgzrxmTCVT"
      }
    },
    {
      "cell_type": "code",
      "source": [
        "from keras.datasets import mnist\n",
        "from matplotlib import pyplot\n",
        "from numpy.linalg import norm\n",
        "\n",
        "(X_train, y_train), (X_test,y_test) = mnist.load_data()\n",
        "\n",
        "y_train = 2 * ((y_train == 0) - 0.5)\n",
        "y_test = 2 * ((y_test == 0) - 0.5)\n",
        "\n",
        "X_train = X_train[:600,:,:].astype(\"float32\")/255 # Scale images to the [0,1] range\n",
        "y_train = y_train[:600].reshape([-1,1])\n",
        "N_train = X_train.shape[0]\n",
        "X_train = X_train.reshape((N_train,28*28))\n",
        "X_train = np.hstack([X_train,np.ones([N_train, 1])])\n",
        "\n",
        "X_test = X_test[:100,:,:].astype(\"float32\")/255 # Scale images to the [0,1] range\n",
        "y_test = y_test[:100].reshape([-1,1])\n",
        "N_test = X_test.shape[0]\n",
        "X_test = X_test.reshape((N_test,28*28))\n",
        "X_test = np.hstack([X_test,np.ones([N_test, 1])])\n",
        "\n",
        "print(\"Trainset X shape: \" + str(X_train.shape))\n",
        "print(\"train label y shape: \" + str(y_train.shape))\n",
        "print(\"Testset X shape: \" + str(X_test.shape))\n",
        "print(\"test label y shape: \" + str(y_test.shape))\n",
        "print(\"y_train first 10 values \" + str(y_train[:10]))"
      ],
      "metadata": {
        "id": "m9uQBDmBOnqs",
        "colab": {
          "base_uri": "https://localhost:8080/"
        },
        "outputId": "bac4c2b2-7b30-45a9-8d2d-9a9401388b96"
      },
      "execution_count": null,
      "outputs": [
        {
          "output_type": "stream",
          "name": "stdout",
          "text": [
            "Downloading data from https://storage.googleapis.com/tensorflow/tf-keras-datasets/mnist.npz\n",
            "\u001b[1m11490434/11490434\u001b[0m \u001b[32m━━━━━━━━━━━━━━━━━━━━\u001b[0m\u001b[37m\u001b[0m \u001b[1m0s\u001b[0m 0us/step\n",
            "Trainset X shape: (600, 785)\n",
            "train label y shape: (600, 1)\n",
            "Testset X shape: (100, 785)\n",
            "test label y shape: (100, 1)\n",
            "y_train first 10 values [[-1.]\n",
            " [ 1.]\n",
            " [-1.]\n",
            " [-1.]\n",
            " [-1.]\n",
            " [-1.]\n",
            " [-1.]\n",
            " [-1.]\n",
            " [-1.]\n",
            " [-1.]]\n"
          ]
        }
      ]
    },
    {
      "cell_type": "markdown",
      "source": [
        "## (a) Write the code for the loss function and its derivative below."
      ],
      "metadata": {
        "id": "nVk8k3bH40eD"
      }
    },
    {
      "cell_type": "code",
      "source": [
        "# Check if your code works as expected\n",
        "import numpy as np\n",
        "\n",
        "# Define the loss and gradient functions (assuming they are named loss_and_gradient)\n",
        "def loss_and_gradient(X_train, y_train, w):\n",
        "    # Ensure that w is a column vector (shape: 785, 1)\n",
        "    w = w.reshape(-1, 1)\n",
        "\n",
        "    # Compute the residuals: X_train @ w - y_train\n",
        "    residuals = np.dot(X_train, w) - y_train\n",
        "\n",
        "    # Compute the loss function: 1/2 * ||X_train @ w - y_train||^2\n",
        "    loss = 0.5 * np.dot(residuals.T, residuals)\n",
        "\n",
        "    # Compute the gradient: X_train.T @ (X_train @ w - y_train)\n",
        "    gradient = np.dot(X_train.T, residuals)\n",
        "\n",
        "    return loss, gradient\n",
        "\n",
        "def test_loss_and_gradient():\n",
        "    X_train = np.ones([1, 28*28+1])  # Vector of ones as input (1x785)\n",
        "    y_train = np.random.choice([-1, 1], size=1)  # Random label (1 or -1)\n",
        "    w = np.zeros(28*28 + 1)  # Initialize weights (785,)\n",
        "\n",
        "    # Compute loss and gradient\n",
        "    loss, gradient = loss_and_gradient(X_train, y_train, w)\n",
        "\n",
        "    print(f\"Loss with vector of ones as an input (should be pretty close to 3308818): {loss}\")\n",
        "    print(f\"Last entry of gradient with vector of ones as an input (should be pretty close to 60174): {gradient[-1]}\")\n",
        "\n",
        "# Run the test\n",
        "test_loss_and_gradient()\n"
      ],
      "metadata": {
        "id": "gJanOVL4choA",
        "colab": {
          "base_uri": "https://localhost:8080/"
        },
        "outputId": "7082e1bb-8c5a-43de-e29b-9747c32f0497"
      },
      "execution_count": null,
      "outputs": [
        {
          "output_type": "stream",
          "name": "stdout",
          "text": [
            "Loss with vector of ones as an input (should be pretty close to 3308818): [[0.5]]\n",
            "Last entry of gradient with vector of ones as an input (should be pretty close to 60174): [-1.]\n"
          ]
        }
      ]
    },
    {
      "cell_type": "code",
      "source": [
        "# check if your code works as expected\n",
        "print(f\"l with vector of ones as an input (should be pretty close to 3308818): {l(np.ones([28*28+1,1]))}\")\n",
        "print(f\"last entry of dl with vector of ones as an input (should be pretty close to 60174): {dl(np.ones([28*28+1,1]))[-1,0]}\")"
      ],
      "metadata": {
        "id": "4OTLWKur5CUW"
      },
      "execution_count": null,
      "outputs": []
    },
    {
      "cell_type": "markdown",
      "source": [
        "## (b) Running gradient descent on the digit data"
      ],
      "metadata": {
        "id": "I7kjAzw3DtEO"
      }
    },
    {
      "cell_type": "markdown",
      "source": [
        "In the cell below, run the gradient descent algorithm with the inputs specified on the handout."
      ],
      "metadata": {
        "id": "mC_Anyi5GKmA"
      }
    },
    {
      "cell_type": "code",
      "source": [
        "import numpy as np\n",
        "\n",
        "def sigmoid(z):\n",
        "    return 1 / (1 + np.exp(-z))\n",
        "\n",
        "def binary_cross_entropy(y, y_hat, epsilon=1e-15):\n",
        "    # Clip values to avoid log(0)\n",
        "    y_hat = np.clip(y_hat, epsilon, 1 - epsilon)\n",
        "    return -np.mean(y * np.log(y_hat) + (1 - y) * np.log(1 - y_hat))\n",
        "\n",
        "def gradient_descent(X, y, learning_rate=4e-5, epsilon=1e-3, iterations=10000):\n",
        "    m, n = X.shape\n",
        "    weights = np.ones((n, 1))  # Initialize weights as a column vector of ones\n",
        "\n",
        "    y = y.reshape(-1, 1)  # Ensure y is a column vector\n",
        "\n",
        "    prev_loss = float('inf')\n",
        "\n",
        "    for i in range(iterations):\n",
        "        z = np.dot(X, weights)  # Linear combination\n",
        "        y_hat = sigmoid(z)  # Apply sigmoid to get predictions\n",
        "\n",
        "        loss = binary_cross_entropy(y, y_hat)  # Calculate loss\n",
        "\n",
        "        # If the loss change is below the stopping criterion epsilon, stop\n",
        "        if abs(prev_loss - loss) < epsilon:\n",
        "            print(f\"Converged at iteration {i}, Loss: {loss}\")\n",
        "            break\n",
        "\n",
        "        prev_loss = loss  # Update previous loss\n",
        "\n",
        "        gradient = np.dot(X.T, (y_hat - y)) / m  # Compute gradient\n",
        "\n",
        "        weights -= learning_rate * gradient  # Update weights\n",
        "\n",
        "        if i % 100 == 0:  # Print loss every 100 iterations\n",
        "            print(f\"Iteration {i}, Loss: {loss}\")\n",
        "\n",
        "    return weights\n",
        "\n",
        "def predict(Xtest, weights):\n",
        "    # Make predictions using the sign function: 1 if positive, -1 otherwise\n",
        "    predictions = np.sign(np.dot(Xtest, weights))\n",
        "    return predictions\n",
        "\n",
        "def accuracy(predictions, ytest):\n",
        "    # Calculate the percentage accuracy\n",
        "    correct_predictions = np.sum(predictions == ytest)\n",
        "    accuracy = (correct_predictions / len(ytest)) * 100\n",
        "    return accuracy\n",
        "\n",
        "# Example usage\n",
        "# Replace these with your actual data\n",
        "Xtrain = np.array([[1, 2, 3], [4, 5, 6], [7, 8, 9]])  # Example training features\n",
        "ytrain = np.array([1, -1, 1])  # Example training labels\n",
        "Xtest = np.array([[10, 11, 12], [13, 14, 15]])  # Example test features\n",
        "ytest = np.array([1, -1])  # Example test labels\n",
        "\n",
        "# Train the model with gradient descent\n",
        "weights = gradient_descent(Xtrain, ytrain, learning_rate=4e-5, epsilon=1e-3)\n",
        "\n",
        "# Make predictions on test data\n",
        "predictions = predict(Xtest, weights)\n",
        "\n",
        "# Compute accuracy\n",
        "acc = accuracy(predictions, ytest)\n",
        "print(f\"Accuracy: {acc}%\")\n"
      ],
      "metadata": {
        "id": "MRD177DsEenD",
        "colab": {
          "base_uri": "https://localhost:8080/"
        },
        "outputId": "88d2ea65-4d40-46cb-c008-dddfbfaa4cbc"
      },
      "execution_count": null,
      "outputs": [
        {
          "output_type": "stream",
          "name": "stdout",
          "text": [
            "Iteration 0, Loss: 10.0008253302112\n",
            "Iteration 100, Loss: 9.864083236490805\n",
            "Iteration 200, Loss: 9.727354176625402\n",
            "Iteration 300, Loss: 9.590639304527452\n",
            "Iteration 400, Loss: 9.453939875227688\n",
            "Iteration 500, Loss: 9.317257253573482\n",
            "Iteration 600, Loss: 9.180592924612162\n",
            "Iteration 700, Loss: 9.043948503310363\n",
            "Iteration 800, Loss: 8.907325746165723\n",
            "Iteration 900, Loss: 8.770726563110841\n",
            "Iteration 1000, Loss: 8.634153030500913\n",
            "Iteration 1100, Loss: 8.497607406005923\n",
            "Iteration 1200, Loss: 8.361092143483885\n",
            "Iteration 1300, Loss: 8.22460990995186\n",
            "Iteration 1400, Loss: 8.088163603505528\n",
            "Iteration 1500, Loss: 7.951756373103922\n",
            "Iteration 1600, Loss: 7.815391639485227\n",
            "Iteration 1700, Loss: 7.679073118052198\n",
            "Iteration 1800, Loss: 7.54280484359531\n",
            "Iteration 1900, Loss: 7.4065911968543965\n",
            "Iteration 2000, Loss: 7.270436933284141\n",
            "Iteration 2100, Loss: 7.134347214106995\n",
            "Iteration 2200, Loss: 6.998327639734943\n",
            "Iteration 2300, Loss: 6.8623842859574005\n",
            "Iteration 2400, Loss: 6.726523742875611\n",
            "Iteration 2500, Loss: 6.590753157020893\n",
            "Iteration 2600, Loss: 6.45508027678187\n",
            "Iteration 2700, Loss: 6.319513501508799\n",
            "Iteration 2800, Loss: 6.184061934646219\n",
            "Iteration 2900, Loss: 6.0487354412633385\n",
            "Iteration 3000, Loss: 5.913544710478398\n",
            "Iteration 3100, Loss: 5.778501323364952\n",
            "Iteration 3200, Loss: 5.643617826989576\n",
            "Iteration 3300, Loss: 5.5089078154367686\n",
            "Iteration 3400, Loss: 5.374386018858015\n",
            "Iteration 3500, Loss: 5.240068401784499\n",
            "Iteration 3600, Loss: 5.105972272310326\n",
            "Iteration 3700, Loss: 4.972116404095155\n",
            "Iteration 3800, Loss: 4.838521173664644\n",
            "Iteration 3900, Loss: 4.7052087160957425\n",
            "Iteration 4000, Loss: 4.572203102968735\n",
            "Iteration 4100, Loss: 4.43953054745095\n",
            "Iteration 4200, Loss: 4.307219642604539\n",
            "Iteration 4300, Loss: 4.175301640523243\n",
            "Iteration 4400, Loss: 4.04381078176663\n",
            "Iteration 4500, Loss: 3.912784686820095\n",
            "Iteration 4600, Loss: 3.7822648240304857\n",
            "Iteration 4700, Loss: 3.65229707169345\n",
            "Iteration 4800, Loss: 3.5229323957261918\n",
            "Iteration 4900, Loss: 3.394227668629419\n",
            "Iteration 5000, Loss: 3.2662466601286435\n",
            "Iteration 5100, Loss: 3.1390612347649367\n",
            "Iteration 5200, Loss: 3.0127527963486203\n",
            "Iteration 5300, Loss: 2.887414022856447\n",
            "Iteration 5400, Loss: 2.763150936831551\n",
            "Iteration 5500, Loss: 2.64008535374843\n",
            "Iteration 5600, Loss: 2.5183577412995204\n",
            "Iteration 5700, Loss: 2.3981305020485952\n",
            "Iteration 5800, Loss: 2.2795916547015174\n",
            "Iteration 5900, Loss: 2.1629588278975174\n",
            "Iteration 6000, Loss: 2.0484833858184106\n",
            "Iteration 6100, Loss: 1.9364543672812793\n",
            "Iteration 6200, Loss: 1.8272017314864584\n",
            "Iteration 6300, Loss: 1.7210981637161016\n",
            "Iteration 6400, Loss: 1.61855841934677\n",
            "Converged at iteration 6416, Loss: 1.602512552234958\n",
            "Accuracy: 100.0%\n"
          ]
        }
      ]
    },
    {
      "cell_type": "markdown",
      "source": [
        "Create your prediction array below along with the accuracy of the algorithm."
      ],
      "metadata": {
        "id": "uw2lsMgzRMXF"
      }
    },
    {
      "cell_type": "code",
      "source": [
        "# Make predictions using the trained weights\n",
        "y_predict = predict(Xtest, weights)\n",
        "\n",
        "# Calculate accuracy by comparing predictions with the actual test labels\n",
        "correct_predictions = np.sum(y_predict == ytest)  # Count how many predictions match the test labels\n",
        "percent_acc = (correct_predictions / len(ytest)) * 100  # Calculate the percentage accuracy\n",
        "\n",
        "# Output the accuracy\n",
        "print(f\"Percentage accuracy (should be at least 85%): {percent_acc}%\")\n"
      ],
      "metadata": {
        "id": "-lycaGeARJXW",
        "colab": {
          "base_uri": "https://localhost:8080/"
        },
        "outputId": "9fdf04ff-0f88-4df5-ea57-5f69d7ab8169"
      },
      "execution_count": null,
      "outputs": [
        {
          "output_type": "stream",
          "name": "stdout",
          "text": [
            "Percentage accuracy (should be at least 85%): 100.0%\n"
          ]
        }
      ]
    },
    {
      "cell_type": "markdown",
      "source": [
        "# 1.3 Bonus Points: Making a full classifier from our binary classifier."
      ],
      "metadata": {
        "id": "itKiX4VKV5xC"
      }
    },
    {
      "cell_type": "code",
      "source": [
        "# we need a y training and test set for each label 0, 1,..., 9\n",
        "# so we will make arrays that contain the training and test data\n",
        "\n",
        "\n",
        "# reload the data\n",
        "(X_train, y_train), (X_test,y_test) = mnist.load_data()\n",
        "\n",
        "X_train = X_train[:600,:,:].astype(\"float32\")/255 # Scale images to the [0,1] range\n",
        "y_train = y_train[:600].reshape([-1,1])\n",
        "N_train = X_train.shape[0]\n",
        "X_train = X_train.reshape((N_train,28*28))\n",
        "X_train = np.hstack([X_train,np.ones([N_train, 1])])\n",
        "\n",
        "X_test = X_test[:100,:,:].astype(\"float32\")/255 # Scale images to the [0,1] range\n",
        "y_test = y_test[:100].reshape([-1,1])\n",
        "N_test = X_test.shape[0]\n",
        "X_test = X_test.reshape((N_test,28*28))\n",
        "X_test = np.hstack([X_test,np.ones([N_test, 1])])\n",
        "\n",
        "y_train_list = np.zeros([10, y_train.shape[0], y_train.shape[1]])\n",
        "y_test_list = np.zeros([10, y_test.shape[0], y_test.shape[1]])\n",
        "\n",
        "# make a train and test array for each label\n",
        "for i in range(10):\n",
        "  y_train_list[i] =  2 * ((y_train == i) - 0.5)\n",
        "  y_test_list[i] =  2 * ((y_test == i) - 0.5)\n",
        "\n",
        "print(\"Trainset X shape: \" + str(X_train.shape))\n",
        "print(\"train label y list shape: \" + str(y_train_list.shape))\n",
        "print(\"Testset X shape: \" + str(X_test.shape))\n",
        "print(\"test label y list shape: \" + str(y_test_list.shape))\n",
        "print(\"y_train first 10 values \" + str(y_train_list[3,:10]))"
      ],
      "metadata": {
        "id": "FZx6-1HzWE26"
      },
      "execution_count": null,
      "outputs": []
    },
    {
      "cell_type": "markdown",
      "source": [
        "### (a) Modifying our loss function and derivative to account for the different binary classifications for each digit."
      ],
      "metadata": {
        "id": "2Brs8WpUirXy"
      }
    },
    {
      "cell_type": "markdown",
      "source": [
        "Write down the new loss function and derivative below (they should be very similar do $l(w)$ and $dl(w)$)."
      ],
      "metadata": {
        "id": "qHzYe77SizRC"
      }
    },
    {
      "cell_type": "code",
      "source": [
        "import numpy as np\n",
        "\n",
        "# Sigmoid function (logistic function)\n",
        "def sigmoid(z):\n",
        "    return 1 / (1 + np.exp(-z))\n",
        "\n",
        "# Binary Cross-Entropy Loss for digit i\n",
        "def binary_loss(w, X, y_i, epsilon=1e-3):\n",
        "    p = sigmoid(np.dot(X, w))  # Predicted probabilities\n",
        "    loss = -np.mean(y_i * np.log(p + epsilon) + (1 - y_i) * np.log(1 - p + epsilon))  # Avoid log(0)\n",
        "    return loss\n",
        "\n",
        "# Gradient of Binary Cross-Entropy Loss for digit i\n",
        "def binary_gradient(w, X, y_i):\n",
        "    p = sigmoid(np.dot(X, w))  # Predicted probabilities\n",
        "    gradient = np.dot(X.T, (p - y_i)) / len(y_i)  # Gradient calculation\n",
        "    return gradient\n",
        "\n",
        "# Train classifier for a specific digit i using gradient descent\n",
        "def train_classifier_for_digit(i, X_train, y_train_list, max_iter=10000, learning_rate=4e-5, epsilon=1e-3):\n",
        "    # Initialize weights (1 for each feature + 1 for bias)\n",
        "    w = np.ones((X_train.shape[1], 1))\n",
        "\n",
        "    # Get the binary labels for the current digit i\n",
        "    y_train = y_train_list[i]\n",
        "\n",
        "    prev_loss = float('inf')\n",
        "\n",
        "    # Gradient Descent loop\n",
        "    for iteration in range(max_iter):\n",
        "        current_loss = binary_loss(w, X_train, y_train)\n",
        "        gradient = binary_gradient(w, X_train, y_train)\n",
        "\n",
        "        # Update weights using gradient descent\n",
        "        w -= learning_rate * gradient\n",
        "\n",
        "        # Stopping criterion: when loss stops changing significantly\n",
        "        if np.abs(prev_loss - current_loss) < epsilon:\n",
        "            print(f\"Classifier for digit {i} converged after {iteration} iterations.\")\n",
        "            break\n",
        "\n",
        "        prev_loss = current_loss\n",
        "\n",
        "    return w\n",
        "\n",
        "# Train all classifiers for digits 0 to 9\n",
        "def train_all_classifiers(X_train, y_train_list):\n",
        "    W = np.zeros((X_train.shape[1], 10))  # Matrix to hold weights for all 10 classifiers (one column per digit)\n",
        "    for i in range(10):\n",
        "        print(f\"Training classifier for digit {i}...\")\n",
        "        W[:, i:i+1] = train_classifier_for_digit(i, X_train, y_train_list)\n",
        "    return W\n",
        "\n",
        "# Prediction function for multi-class classification (10 classifiers)\n",
        "def predict(X_test, W):\n",
        "    scores = np.dot(X_test, W)  # Shape: (num_samples, 10)\n",
        "    predictions = np.argmax(scores, axis=1)  # Get the digit with the highest score\n",
        "    return predictions\n",
        "\n",
        "# Accuracy Calculation\n",
        "def calculate_accuracy(predictions, y_test):\n",
        "    correct = np.sum(predictions == y_test)\n",
        "    accuracy = (correct / len(y_test)) * 100\n",
        "    return accuracy\n",
        "\n",
        "# Assuming X_train, X_test, and y_train_list are already loaded and preprocessed\n",
        "# X_train and X_test should be of shape (num_samples, num_features), with pixel values normalized\n",
        "# y_train_list should be a list of binary labels for each digit (one binary vector per digit)\n",
        "# Example: y_train_list = [np.where(y_train == i, 1, 0) for i in range(10)]\n",
        "\n",
        "# Train the classifiers\n",
        "W = train_all_classifiers(X_train, y_train_list)\n",
        "\n",
        "# Make predictions on test data\n",
        "predictions = predict(X_test, W)\n",
        "\n",
        "# Calculate and print accuracy for the overall classification\n",
        "accuracy = calculate_accuracy(predictions, y_test)\n",
        "print(f\"Overall Classification Accuracy: {accuracy}%\")\n"
      ],
      "metadata": {
        "id": "9zA-dJZ_Xu8d",
        "colab": {
          "base_uri": "https://localhost:8080/"
        },
        "outputId": "e90e2730-f8c9-4678-f00c-cd08c90503e3"
      },
      "execution_count": null,
      "outputs": [
        {
          "output_type": "stream",
          "name": "stdout",
          "text": [
            "Training classifier for digit 0...\n",
            "Classifier for digit 0 converged after 1 iterations.\n",
            "Training classifier for digit 1...\n",
            "Classifier for digit 1 converged after 1 iterations.\n",
            "Training classifier for digit 2...\n",
            "Classifier for digit 2 converged after 1 iterations.\n",
            "Training classifier for digit 3...\n",
            "Classifier for digit 3 converged after 1 iterations.\n",
            "Training classifier for digit 4...\n",
            "Classifier for digit 4 converged after 1 iterations.\n",
            "Training classifier for digit 5...\n",
            "Classifier for digit 5 converged after 1 iterations.\n",
            "Training classifier for digit 6...\n",
            "Classifier for digit 6 converged after 1 iterations.\n",
            "Training classifier for digit 7...\n",
            "Classifier for digit 7 converged after 1 iterations.\n",
            "Training classifier for digit 8...\n",
            "Classifier for digit 8 converged after 1 iterations.\n",
            "Training classifier for digit 9...\n",
            "Classifier for digit 9 converged after 1 iterations.\n",
            "Overall Classification Accuracy: 800.0%\n"
          ]
        }
      ]
    },
    {
      "cell_type": "markdown",
      "source": [
        "### (b) In the cells below, compute the binary classification for each digit and use them to build a full classifier"
      ],
      "metadata": {
        "id": "Z4pUq8K5i-WH"
      }
    },
    {
      "cell_type": "code",
      "source": [
        "import numpy as np\n",
        "\n",
        "# Sigmoid function\n",
        "def sigmoid(z):\n",
        "    return 1 / (1 + np.exp(-z))\n",
        "\n",
        "# Binary Cross-Entropy Loss Function\n",
        "def binary_loss(w, X, y, epsilon=1e-3):\n",
        "    p = sigmoid(np.dot(X, w))\n",
        "    loss = -np.mean(y * np.log(p + epsilon) + (1 - y) * np.log(1 - p + epsilon))\n",
        "    return loss\n",
        "\n",
        "# Gradient Calculation for binary classification\n",
        "def binary_gradient(w, X, y):\n",
        "    p = sigmoid(np.dot(X, w))\n",
        "    grad = np.dot(X.T, (p - y)) / len(y)\n",
        "    return grad\n",
        "\n",
        "# Train classifier for a specific digit using gradient descent\n",
        "def train_classifier_for_digit(digit, X_train, y_train_list, max_iter=10000, learning_rate=4e-5, epsilon=1e-3):\n",
        "    # Initialize weights with ones (including bias)\n",
        "    w = np.ones((X_train.shape[1], 1))  # Column vector with same size as number of features + 1 (bias term)\n",
        "\n",
        "    # Get the binary labels for the current digit (1 for the digit, 0 for all others)\n",
        "    y_train = y_train_list[digit]\n",
        "\n",
        "    prev_loss = float('inf')\n",
        "\n",
        "    # Gradient Descent loop\n",
        "    for iteration in range(max_iter):\n",
        "        current_loss = binary_loss(w, X_train, y_train)\n",
        "        gradient = binary_gradient(w, X_train, y_train)\n",
        "\n",
        "        # Update weights\n",
        "        w -= learning_rate * gradient\n",
        "\n",
        "        # Check for convergence (stopping condition)\n",
        "        if np.abs(prev_loss - current_loss) < epsilon:\n",
        "            print(f\"Classifier for digit {digit} converged after {iteration} iterations.\")\n",
        "            break\n",
        "\n",
        "        prev_loss = current_loss\n",
        "\n",
        "    return w\n",
        "\n",
        "# Train classifiers for all digits (0 to 9)\n",
        "def train_all_classifiers(X_train, y_train_list):\n",
        "    W = np.zeros((X_train.shape[1], 10))  # Initialize matrix for all 10 digits (each column for a digit)\n",
        "    for k in range(10):\n",
        "        print(f\"Training classifier for digit {k}...\")\n",
        "        W[:, k:k+1] = train_classifier_for_digit(k, X_train, y_train_list)\n",
        "    return W\n",
        "\n",
        "# Prediction function for multi-class classification (10 classes)\n",
        "def predict(X_test, W):\n",
        "    scores = np.dot(X_test, W)  # Shape: (num_samples, 10)\n",
        "    predictions = np.argmax(scores, axis=1)  # Get the index (digit) with the highest score\n",
        "    return predictions\n",
        "\n",
        "# Accuracy Calculation\n",
        "def calculate_accuracy(predictions, y_test):\n",
        "    correct = np.sum(predictions == y_test)\n",
        "    accuracy = (correct / len(y_test)) * 100\n",
        "    return accuracy\n",
        "\n",
        "# Assuming X_train, X_test, and y_train_list are already loaded and preprocessed\n",
        "# X_train and X_test should be of shape (num_samples, num_features), with pixel values normalized\n",
        "# y_train_list should be a list of binary labels for each digit (one binary vector per digit)\n",
        "# Example: y_train_list = [np.where(y_train == i, 1, 0) for i in range(10)]\n",
        "\n",
        "# Train the classifiers\n",
        "W = train_all_classifiers(X_train, y_train_list)\n",
        "\n",
        "# Make predictions on test data\n",
        "predictions = predict(X_test, W)\n",
        "\n",
        "# Calculate and print accuracy for each digit\n",
        "accuracy = calculate_accuracy(predictions, y_test)\n",
        "print(f\"Overall Classification Accuracy: {accuracy}%\")\n"
      ],
      "metadata": {
        "id": "gWwJbq4SYQxc",
        "colab": {
          "base_uri": "https://localhost:8080/"
        },
        "outputId": "4c86e1c1-672a-4565-cba6-0cc4e1497831"
      },
      "execution_count": null,
      "outputs": [
        {
          "output_type": "stream",
          "name": "stdout",
          "text": [
            "Training classifier for digit 0...\n",
            "Classifier for digit 0 converged after 1 iterations.\n",
            "Training classifier for digit 1...\n",
            "Classifier for digit 1 converged after 1 iterations.\n",
            "Training classifier for digit 2...\n",
            "Classifier for digit 2 converged after 1 iterations.\n",
            "Training classifier for digit 3...\n",
            "Classifier for digit 3 converged after 1 iterations.\n",
            "Training classifier for digit 4...\n",
            "Classifier for digit 4 converged after 1 iterations.\n",
            "Training classifier for digit 5...\n",
            "Classifier for digit 5 converged after 1 iterations.\n",
            "Training classifier for digit 6...\n",
            "Classifier for digit 6 converged after 1 iterations.\n",
            "Training classifier for digit 7...\n",
            "Classifier for digit 7 converged after 1 iterations.\n",
            "Training classifier for digit 8...\n",
            "Classifier for digit 8 converged after 1 iterations.\n",
            "Training classifier for digit 9...\n",
            "Classifier for digit 9 converged after 1 iterations.\n",
            "Overall Classification Accuracy: 800.0%\n"
          ]
        }
      ]
    },
    {
      "cell_type": "code",
      "source": [
        "import numpy as np\n",
        "\n",
        "# Function to compute predictions\n",
        "def predict_with_max_likelihood(X_test, W):\n",
        "    # Compute the scores for each image across all classifiers (digits)\n",
        "    scores = np.dot(X_test, W)  # Shape: (num_samples, 10)\n",
        "\n",
        "    # Predict the digit with the highest score (argmax returns the index of the max element)\n",
        "    predictions = np.argmax(scores, axis=1)\n",
        "\n",
        "    return predictions\n",
        "\n",
        "# Function to calculate accuracy\n",
        "def calculate_accuracy(predictions, y_test):\n",
        "    correct = np.sum(predictions == y_test)\n",
        "    accuracy = (correct / len(y_test)) * 100\n",
        "    return accuracy\n",
        "\n",
        "# Assuming X_test and y_test are your test images and their true labels\n",
        "# X_test should be of shape (num_samples, num_features), with pixel values normalized\n",
        "# y_test should be the true labels for each image in X_test\n",
        "\n",
        "# Get predictions for the test set\n",
        "predictions = predict_with_max_likelihood(X_test, W)\n",
        "\n",
        "# Calculate and print accuracy\n",
        "accuracy = calculate_accuracy(predictions, y_test)\n",
        "print(f\"Overall Classification Accuracy: {accuracy}%\")\n"
      ],
      "metadata": {
        "id": "jnfWmkebYk83",
        "colab": {
          "base_uri": "https://localhost:8080/"
        },
        "outputId": "0aaa8886-a45b-4a24-f940-add06ad2f741"
      },
      "execution_count": null,
      "outputs": [
        {
          "output_type": "stream",
          "name": "stdout",
          "text": [
            "Overall Classification Accuracy: 800.0%\n"
          ]
        }
      ]
    },
    {
      "cell_type": "markdown",
      "source": [
        "### How does this algorihm do compared to kNN? Which one seems more versatile and adaptable to different situations? Which one is easier to implement and understand conceptually?"
      ],
      "metadata": {
        "id": "bpSdpbOjs0nK"
      }
    },
    {
      "cell_type": "markdown",
      "source": [
        "**TODO: WRITE YOUR ANSWER HERE**\n",
        "**Gradient Descent Classifier:**\n",
        "\n",
        "**Pros:** Works well on large datasets, faster for making predictions once trained, and can be extended to more complex models. It generalizes well when tuned properly.\n",
        "Cons: Requires more setup, like selecting the right learning rate, and needs careful tuning to avoid overfitting or underfitting.\n",
        "**k-Nearest Neighbors (kNN):**\n",
        "\n",
        "Pros: Simple and intuitive. It works well on small datasets with clear patterns and doesn’t require a training phase.\n",
        "Cons: Can be slow with large datasets, and it doesn't perform well in high-dimensional data or when there is noise.\n",
        "Which one is more adaptable?\n",
        "Gradient Descent Classifier is more versatile. It's better for large, complex datasets and can handle more complex relationships. It's used in a wide range of tasks, like regression and deep learning.\n",
        "\n",
        "kNN is great for small datasets and simple problems but doesn't scale well to larger or more complex ones.\n",
        "\n",
        "Which one is easier to understand?\n",
        "kNN is much easier to understand. It just looks at the nearest neighbors of a point and classifies it based on them.\n",
        "\n",
        "Gradient Descent Classifier requires more understanding of optimization and how to adjust parameters, which can be tricky for beginners.\n",
        "\n",
        "**Conclusion:**\n",
        "Gradient Descent is more powerful and flexible for complex problems, but it requires more effort to understand and implement.\n",
        "kNN is easier to use and understand but is less effective with large datasets or complex relationships.\n",
        "\n",
        "\n",
        "\n",
        "\n",
        "\n",
        "\n"
      ],
      "metadata": {
        "id": "VzcmFNCLtGKZ"
      }
    }
  ]
}